{
 "cells": [
  {
   "cell_type": "code",
   "execution_count": 2,
   "metadata": {},
   "outputs": [],
   "source": [
    "import os\n",
    "import pandas as pd\n",
    "import numpy as np"
   ]
  },
  {
   "cell_type": "code",
   "execution_count": 3,
   "metadata": {},
   "outputs": [],
   "source": [
    "experiments = ['IEEE9_noiseless_red', 'IEEE9_noisy_red']\n",
    "architectures = ['fcn', 'inception', 'mcdcnn', 'tlenet']"
   ]
  },
  {
   "cell_type": "markdown",
   "metadata": {},
   "source": [
    "## k-fold"
   ]
  },
  {
   "cell_type": "code",
   "execution_count": 4,
   "metadata": {},
   "outputs": [
    {
     "name": "stdout",
     "output_type": "stream",
     "text": [
      "/Users/sergio.dorado/Documents/GitHub_Repositories/01_Maintained/Papers/dl_tsc_small_signal/experiments/IEEE9_noiseless_red/fcn/k-fold\n",
      "/Users/sergio.dorado/Documents/GitHub_Repositories/01_Maintained/Papers/dl_tsc_small_signal/experiments/IEEE9_noiseless_red/inception/k-fold\n",
      "/Users/sergio.dorado/Documents/GitHub_Repositories/01_Maintained/Papers/dl_tsc_small_signal/experiments/IEEE9_noiseless_red/mcdcnn/k-fold\n",
      "/Users/sergio.dorado/Documents/GitHub_Repositories/01_Maintained/Papers/dl_tsc_small_signal/experiments/IEEE9_noiseless_red/tlenet/k-fold\n",
      "/Users/sergio.dorado/Documents/GitHub_Repositories/01_Maintained/Papers/dl_tsc_small_signal/experiments/IEEE9_noisy_red/fcn/k-fold\n",
      "/Users/sergio.dorado/Documents/GitHub_Repositories/01_Maintained/Papers/dl_tsc_small_signal/experiments/IEEE9_noisy_red/inception/k-fold\n",
      "/Users/sergio.dorado/Documents/GitHub_Repositories/01_Maintained/Papers/dl_tsc_small_signal/experiments/IEEE9_noisy_red/mcdcnn/k-fold\n",
      "/Users/sergio.dorado/Documents/GitHub_Repositories/01_Maintained/Papers/dl_tsc_small_signal/experiments/IEEE9_noisy_red/tlenet/k-fold\n"
     ]
    }
   ],
   "source": [
    "df_experiments = dict.fromkeys(experiments)\n",
    "\n",
    "for experiment in experiments:\n",
    "    df_res_arch = dict.fromkeys(architectures)\n",
    "    for architecture in architectures:\n",
    "        path_res = os.path.join(os.getcwd(), 'experiments', experiment, architecture, 'k-fold')\n",
    "        print(path_res)\n",
    "        epoch_best = 0\n",
    "        for n in range(1, 6):\n",
    "            path_best = os.path.join(path_res, f'{n}_df_best_model.csv')\n",
    "            df_path_best = pd.read_csv(path_best)\n",
    "            epoch_best += df_path_best['best_model_nb_epoch'].values[0]\n",
    "        epoch_best /= n\n",
    "        epoch_best = int(epoch_best)\n",
    "        \n",
    "        path_res = os.path.join(os.getcwd(), 'experiments', experiment, architecture, 'k-fold', 'results_k-fold.csv')\n",
    "        df_res = pd.read_csv(path_res)\n",
    "        \n",
    "        f1_mean = df_res['F1'].mean() * 100\n",
    "        f1_std = df_res['F1'].std() * 100\n",
    "        \n",
    "        acc_mean = df_res['accuracy'].mean() * 100\n",
    "        acc_std = df_res['accuracy'].std() * 100\n",
    "        \n",
    "        prec_mean = df_res['precision'].mean() * 100\n",
    "        prec_std = df_res['precision'].std() * 100\n",
    "        \n",
    "        rec_mean = df_res['recall'].mean() * 100\n",
    "        rec_std = df_res['recall'].std() * 100\n",
    "        \n",
    "        pred_t_mean = df_res['prediction_time'].mean()\n",
    "        pred_t_std = df_res['prediction_time'].std()\n",
    "        \n",
    "        df_res_arch[architecture] = {'f1': f'{f1_mean:.4f}+-{f1_std:.4f}', \n",
    "         'accuracy' : f'{acc_mean:.4f}+-{acc_std:.4f}', \n",
    "         'precision' :  f'{prec_mean:.4f}+-{prec_std:.4f}', \n",
    "         'recall' : f'{rec_mean:.4f}+-{rec_std:.4f}', \n",
    "         'prediction_time' : f'{pred_t_mean:.4f} +- {pred_t_std:.4f}', \n",
    "        'epoch_best' : f'{epoch_best}'}\n",
    "        \n",
    "        df_res = None\n",
    "    \n",
    "    df_experiments[experiment] = df_res_arch\n",
    "    df_res_arch = None"
   ]
  },
  {
   "cell_type": "code",
   "execution_count": 5,
   "metadata": {},
   "outputs": [
    {
     "data": {
      "text/plain": [
       "{'IEEE9_noiseless_red': {'fcn': {'f1': '86.8398+-5.9240',\n",
       "   'accuracy': '87.5000+-5.8926',\n",
       "   'precision': '86.4470+-5.1666',\n",
       "   'recall': '90.8088+-4.3656',\n",
       "   'prediction_time': '0.2146 +- 0.0007',\n",
       "   'epoch_best': '8'},\n",
       "  'inception': {'f1': '97.2676+-6.1099',\n",
       "   'accuracy': '97.5000+-5.5902',\n",
       "   'precision': '97.0000+-6.7082',\n",
       "   'recall': '98.2353+-3.9460',\n",
       "   'prediction_time': '1.1645 +- 0.0934',\n",
       "   'epoch_best': '19'},\n",
       "  'mcdcnn': {'f1': '100.0000+-0.0000',\n",
       "   'accuracy': '100.0000+-0.0000',\n",
       "   'precision': '100.0000+-0.0000',\n",
       "   'recall': '100.0000+-0.0000',\n",
       "   'prediction_time': '0.2037 +- 0.0469',\n",
       "   'epoch_best': '59'},\n",
       "  'tlenet': {'f1': '40.5854+-0.8015',\n",
       "   'accuracy': '68.3333+-2.2822',\n",
       "   'precision': '34.1667+-1.1411',\n",
       "   'recall': '50.0000+-0.0000',\n",
       "   'prediction_time': '0.8920 +- 0.0921',\n",
       "   'epoch_best': '433'}},\n",
       " 'IEEE9_noisy_red': {'fcn': {'f1': '69.9653+-12.3973',\n",
       "   'accuracy': '74.1667+-8.0147',\n",
       "   'precision': '82.8941+-2.8339',\n",
       "   'recall': '72.3007+-10.4880',\n",
       "   'prediction_time': '0.2179 +- 0.0024',\n",
       "   'epoch_best': '10'},\n",
       "  'inception': {'f1': '90.6963+-9.6211',\n",
       "   'accuracy': '90.8333+-9.5015',\n",
       "   'precision': '92.8750+-7.2893',\n",
       "   'recall': '91.2587+-8.7622',\n",
       "   'prediction_time': '1.2017 +- 0.1131',\n",
       "   'epoch_best': '19'},\n",
       "  'mcdcnn': {'f1': '100.0000+-0.0000',\n",
       "   'accuracy': '100.0000+-0.0000',\n",
       "   'precision': '100.0000+-0.0000',\n",
       "   'recall': '100.0000+-0.0000',\n",
       "   'prediction_time': '0.2060 +- 0.0456',\n",
       "   'epoch_best': '59'},\n",
       "  'tlenet': {'f1': '35.4765+-0.7634',\n",
       "   'accuracy': '55.0000+-1.8634',\n",
       "   'precision': '27.5000+-0.9317',\n",
       "   'recall': '50.0000+-0.0000',\n",
       "   'prediction_time': '0.8885 +- 0.0734',\n",
       "   'epoch_best': '355'}}}"
      ]
     },
     "execution_count": 5,
     "metadata": {},
     "output_type": "execute_result"
    }
   ],
   "source": [
    "df_experiments"
   ]
  },
  {
   "cell_type": "code",
   "execution_count": 30,
   "metadata": {},
   "outputs": [
    {
     "data": {
      "text/plain": [
       "435"
      ]
     },
     "execution_count": 30,
     "metadata": {},
     "output_type": "execute_result"
    }
   ],
   "source": []
  },
  {
   "cell_type": "code",
   "execution_count": 34,
   "metadata": {},
   "outputs": [
    {
     "data": {
      "text/plain": [
       "{'cnn': 435,\n",
       " 'fcn': 274,\n",
       " 'inception': 76,\n",
       " 'mcdcnn': 119,\n",
       " 'mlp': 4270,\n",
       " 'tlenet': 426}"
      ]
     },
     "execution_count": 34,
     "metadata": {},
     "output_type": "execute_result"
    }
   ],
   "source": [
    "df_best_epoch"
   ]
  },
  {
   "cell_type": "code",
   "execution_count": 42,
   "metadata": {},
   "outputs": [
    {
     "data": {
      "text/html": [
       "<div>\n",
       "<style scoped>\n",
       "    .dataframe tbody tr th:only-of-type {\n",
       "        vertical-align: middle;\n",
       "    }\n",
       "\n",
       "    .dataframe tbody tr th {\n",
       "        vertical-align: top;\n",
       "    }\n",
       "\n",
       "    .dataframe thead th {\n",
       "        text-align: right;\n",
       "    }\n",
       "</style>\n",
       "<table border=\"1\" class=\"dataframe\">\n",
       "  <thead>\n",
       "    <tr style=\"text-align: right;\">\n",
       "      <th></th>\n",
       "      <th>F1</th>\n",
       "      <th>accuracy</th>\n",
       "      <th>recall</th>\n",
       "      <th>duration</th>\n",
       "      <th>precision</th>\n",
       "      <th>prediction_time</th>\n",
       "    </tr>\n",
       "  </thead>\n",
       "  <tbody>\n",
       "    <tr>\n",
       "      <th>0</th>\n",
       "      <td>0.996572</td>\n",
       "      <td>0.996923</td>\n",
       "      <td>0.997674</td>\n",
       "      <td>513.097331</td>\n",
       "      <td>0.995495</td>\n",
       "      <td>0.138017</td>\n",
       "    </tr>\n",
       "    <tr>\n",
       "      <th>1</th>\n",
       "      <td>0.996572</td>\n",
       "      <td>0.996923</td>\n",
       "      <td>0.997674</td>\n",
       "      <td>137.838727</td>\n",
       "      <td>0.995495</td>\n",
       "      <td>0.134646</td>\n",
       "    </tr>\n",
       "    <tr>\n",
       "      <th>2</th>\n",
       "      <td>1.000000</td>\n",
       "      <td>1.000000</td>\n",
       "      <td>1.000000</td>\n",
       "      <td>99.610077</td>\n",
       "      <td>1.000000</td>\n",
       "      <td>0.135558</td>\n",
       "    </tr>\n",
       "    <tr>\n",
       "      <th>3</th>\n",
       "      <td>1.000000</td>\n",
       "      <td>1.000000</td>\n",
       "      <td>1.000000</td>\n",
       "      <td>97.351765</td>\n",
       "      <td>1.000000</td>\n",
       "      <td>0.133909</td>\n",
       "    </tr>\n",
       "    <tr>\n",
       "      <th>4</th>\n",
       "      <td>1.000000</td>\n",
       "      <td>1.000000</td>\n",
       "      <td>1.000000</td>\n",
       "      <td>97.022870</td>\n",
       "      <td>1.000000</td>\n",
       "      <td>0.136471</td>\n",
       "    </tr>\n",
       "  </tbody>\n",
       "</table>\n",
       "</div>"
      ],
      "text/plain": [
       "         F1  accuracy    recall    duration  precision  prediction_time\n",
       "0  0.996572  0.996923  0.997674  513.097331   0.995495         0.138017\n",
       "1  0.996572  0.996923  0.997674  137.838727   0.995495         0.134646\n",
       "2  1.000000  1.000000  1.000000   99.610077   1.000000         0.135558\n",
       "3  1.000000  1.000000  1.000000   97.351765   1.000000         0.133909\n",
       "4  1.000000  1.000000  1.000000   97.022870   1.000000         0.136471"
      ]
     },
     "execution_count": 42,
     "metadata": {},
     "output_type": "execute_result"
    }
   ],
   "source": [
    "df_res"
   ]
  },
  {
   "cell_type": "code",
   "execution_count": null,
   "metadata": {},
   "outputs": [],
   "source": []
  }
 ],
 "metadata": {
  "kernelspec": {
   "display_name": "Python 3",
   "language": "python",
   "name": "python3"
  },
  "language_info": {
   "codemirror_mode": {
    "name": "ipython",
    "version": 3
   },
   "file_extension": ".py",
   "mimetype": "text/x-python",
   "name": "python",
   "nbconvert_exporter": "python",
   "pygments_lexer": "ipython3",
   "version": "3.7.9"
  }
 },
 "nbformat": 4,
 "nbformat_minor": 4
}
